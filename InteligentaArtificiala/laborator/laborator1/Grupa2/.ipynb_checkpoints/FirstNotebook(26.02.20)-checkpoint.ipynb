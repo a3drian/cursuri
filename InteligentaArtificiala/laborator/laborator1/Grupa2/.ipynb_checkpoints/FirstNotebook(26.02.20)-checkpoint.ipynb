{
 "cells": [
  {
   "cell_type": "code",
   "execution_count": 1,
   "metadata": {},
   "outputs": [
    {
     "name": "stdout",
     "output_type": "stream",
     "text": [
      "Salut, Don Adi\n"
     ]
    }
   ],
   "source": [
    "print(\"Salut, Don Adi\")"
   ]
  },
  {
   "cell_type": "code",
   "execution_count": 2,
   "metadata": {},
   "outputs": [
    {
     "name": "stdout",
     "output_type": "stream",
     "text": [
      "x = 3\n"
     ]
    }
   ],
   "source": [
    "x = 3\n",
    "print(\"x =\", 3)"
   ]
  },
  {
   "cell_type": "markdown",
   "metadata": {},
   "source": [
    "# Exercitii"
   ]
  },
  {
   "cell_type": "markdown",
   "metadata": {},
   "source": [
    "# 1.\n",
    "Documentati-va pentru lucru cu fisiere text. Gasiti cuvintele diferite (case insensitive) si de cate ori apar ele\n",
    "intr-un fisier text, cu cate un cuvant pe fiecare linie. Puteti folosi tipurile set si collections.Counter . Un\n",
    "exemplu de fisier de intrare este data/words.txt."
   ]
  },
  {
   "cell_type": "code",
   "execution_count": 3,
   "metadata": {},
   "outputs": [],
   "source": [
    "with open('data/words.txt', 'rt') as f: #fisierul pe care il deschide il numesc f\n",
    "    lines = f.readlines()"
   ]
  },
  {
   "cell_type": "code",
   "execution_count": 4,
   "metadata": {},
   "outputs": [
    {
     "name": "stdout",
     "output_type": "stream",
     "text": [
      "['ana\\n', 'dana\\n', 'maria\\n', 'vasile\\n', 'ana\\n', 'maria\\n', 'george\\n', 'viorel\\n', 'Maria\\n', 'inca_un_nume\\n']\n"
     ]
    }
   ],
   "source": [
    "print(lines)"
   ]
  },
  {
   "cell_type": "code",
   "execution_count": 5,
   "metadata": {},
   "outputs": [
    {
     "name": "stdout",
     "output_type": "stream",
     "text": [
      "['ana\\n', 'dana\\n', 'maria\\n', 'vasile\\n', 'ana\\n', 'maria\\n', 'george\\n', 'viorel\\n', 'maria\\n', 'inca_un_nume\\n']\n"
     ]
    }
   ],
   "source": [
    "lines_case_insensitive = []\n",
    "for line in lines:\n",
    "    s = line.lower()\n",
    "    lines_case_insensitive.append(s)\n",
    "print(lines_case_insensitive)"
   ]
  },
  {
   "cell_type": "code",
   "execution_count": 6,
   "metadata": {
    "scrolled": true
   },
   "outputs": [
    {
     "name": "stdout",
     "output_type": "stream",
     "text": [
      "{'dana\\n', 'vasile\\n', 'inca_un_nume\\n', 'viorel\\n', 'george\\n', 'maria\\n', 'ana\\n'}\n"
     ]
    }
   ],
   "source": [
    "names = set()\n",
    "for line in lines_case_insensitive:\n",
    "    # to remove \\n\n",
    "    names.add(line)\n",
    "print(names)"
   ]
  },
  {
   "cell_type": "markdown",
   "metadata": {},
   "source": [
    "# counter"
   ]
  },
  {
   "cell_type": "code",
   "execution_count": 7,
   "metadata": {},
   "outputs": [
    {
     "name": "stdout",
     "output_type": "stream",
     "text": [
      "Counter({'dana\\n': 1, 'vasile\\n': 1, 'inca_un_nume\\n': 1, 'viorel\\n': 1, 'george\\n': 1, 'maria\\n': 1, 'ana\\n': 1})\n"
     ]
    }
   ],
   "source": [
    "from collections import Counter\n",
    "counter = Counter(names)\n",
    "print(counter)"
   ]
  },
  {
   "cell_type": "markdown",
   "metadata": {},
   "source": [
    "# 2.\n",
    "Sa se determine daca cuvintele 'reggae' si 'simfonic' apar de acelasi numar de ori intr-un sir dat."
   ]
  },
  {
   "cell_type": "code",
   "execution_count": 8,
   "metadata": {},
   "outputs": [
    {
     "name": "stdout",
     "output_type": "stream",
     "text": [
      "raggae simfonic aditza bogdan simfonic raggae laptop inteligenta artificiala\n"
     ]
    }
   ],
   "source": [
    "sir = \"raggae simfonic aditza bogdan simfonic raggae laptop inteligenta artificiala\"\n",
    "print(sir)"
   ]
  },
  {
   "cell_type": "code",
   "execution_count": 9,
   "metadata": {},
   "outputs": [
    {
     "name": "stdout",
     "output_type": "stream",
     "text": [
      "raggae simfonic aditza bogdan simfonic raggae laptop inteligenta artificiala\n"
     ]
    }
   ],
   "source": [
    "wip = sir[:]\n",
    "print(wip)"
   ]
  },
  {
   "cell_type": "code",
   "execution_count": 10,
   "metadata": {},
   "outputs": [],
   "source": [
    "counterR = 0\n",
    "counterS = 0"
   ]
  },
  {
   "cell_type": "code",
   "execution_count": 11,
   "metadata": {},
   "outputs": [],
   "source": [
    "counterR = wip.count(\"raggae\")\n",
    "counterS = wip.count(\"simfonic\")"
   ]
  },
  {
   "cell_type": "code",
   "execution_count": 12,
   "metadata": {},
   "outputs": [
    {
     "name": "stdout",
     "output_type": "stream",
     "text": [
      "Apar de acelasi numar de ori.\n"
     ]
    }
   ],
   "source": [
    "if counterR == counterS:\n",
    "    print(\"Apar de acelasi numar de ori.\")\n",
    "else:\n",
    "    print(\"Nu apar de acelasi numar de ori.\")"
   ]
  },
  {
   "cell_type": "markdown",
   "metadata": {},
   "source": [
    "# 3.\n",
    "In fisierul data\\Postures.csv , cate linii nu contin deloc caracterul '?' (adica datele sunt complete)? Puteti folosi modulul re pentru expresii regulate."
   ]
  },
  {
   "cell_type": "code",
   "execution_count": 13,
   "metadata": {},
   "outputs": [],
   "source": [
    "import csv\n",
    "with open('data/Postures.csv', 'r') as p: #fisierul pe care il deschide il numesc p\n",
    "    tabs = list(csv.reader(p))"
   ]
  },
  {
   "cell_type": "code",
   "execution_count": 14,
   "metadata": {},
   "outputs": [
    {
     "name": "stdout",
     "output_type": "stream",
     "text": [
      "<class 'list'>\n"
     ]
    }
   ],
   "source": [
    "print(type(tabs))"
   ]
  },
  {
   "cell_type": "code",
   "execution_count": 15,
   "metadata": {},
   "outputs": [
    {
     "name": "stdout",
     "output_type": "stream",
     "text": [
      "['??', '0.9??', '0.8']\n"
     ]
    }
   ],
   "source": [
    "import re\n",
    "string = ['??', '0.9??', '0.8']\n",
    "print(string)"
   ]
  },
  {
   "cell_type": "code",
   "execution_count": 16,
   "metadata": {},
   "outputs": [
    {
     "name": "stdout",
     "output_type": "stream",
     "text": [
      "re.compile('[\\\\?]*')\n",
      "<class 're.Pattern'>\n"
     ]
    }
   ],
   "source": [
    "pattern = re.compile('[\\?]*')\n",
    "print(pattern)\n",
    "print(type(pattern))"
   ]
  },
  {
   "cell_type": "code",
   "execution_count": 17,
   "metadata": {},
   "outputs": [
    {
     "name": "stdout",
     "output_type": "stream",
     "text": [
      "<re.Match object; span=(0, 0), match=''>\n"
     ]
    }
   ],
   "source": [
    "print(pattern.match(string[2]))"
   ]
  },
  {
   "cell_type": "code",
   "execution_count": 22,
   "metadata": {},
   "outputs": [],
   "source": [
    "contor = 0\n",
    "for tab in tabs:\n",
    "    if '?' in tab:\n",
    "        contor = contor + 1"
   ]
  },
  {
   "cell_type": "code",
   "execution_count": 24,
   "metadata": {},
   "outputs": [
    {
     "name": "stdout",
     "output_type": "stream",
     "text": [
      "Sunt 7 linii fara semnul intrebarii.\n"
     ]
    }
   ],
   "source": [
    "print(\"Sunt\", len(tabs) - contor, \"linii fara semnul intrebarii.\")"
   ]
  },
  {
   "cell_type": "code",
   "execution_count": null,
   "metadata": {},
   "outputs": [],
   "source": []
  }
 ],
 "metadata": {
  "kernelspec": {
   "display_name": "Python 3",
   "language": "python",
   "name": "python3"
  },
  "language_info": {
   "codemirror_mode": {
    "name": "ipython",
    "version": 3
   },
   "file_extension": ".py",
   "mimetype": "text/x-python",
   "name": "python",
   "nbconvert_exporter": "python",
   "pygments_lexer": "ipython3",
   "version": "3.7.6"
  }
 },
 "nbformat": 4,
 "nbformat_minor": 4
}
