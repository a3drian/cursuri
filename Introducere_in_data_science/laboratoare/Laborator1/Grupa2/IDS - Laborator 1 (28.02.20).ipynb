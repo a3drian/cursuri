{
 "cells": [
  {
   "cell_type": "markdown",
   "metadata": {},
   "source": [
    "# Exercitii"
   ]
  },
  {
   "cell_type": "markdown",
   "metadata": {},
   "source": [
    "# 1. \n",
    "(fizz-buzz test) Sa se scrie numerele de la 1 la n; pentru fiecare multiplu de 2 se va scrie in locul numarului\n",
    "'Fizz', pentru multiplu al lui 5 se va scrie 'Buzz'; daca numarul este multiplu de 10 se va scrie in locul lui\n",
    "'FizzBuzz'."
   ]
  },
  {
   "cell_type": "code",
   "execution_count": null,
   "metadata": {},
   "outputs": [],
   "source": [
    "n_1 = input('n: ')\n",
    "\n",
    "for i in range(1, int(n_1) + 1):\n",
    "    if i % 10 == 0:\n",
    "        print('FizzBuzz')\n",
    "    elif i % 5 == 0:\n",
    "        print('Buzz')\n",
    "    elif i % 2 == 0:\n",
    "        print('Fizz')\n",
    "    else:\n",
    "        print(i)"
   ]
  },
  {
   "cell_type": "markdown",
   "metadata": {},
   "source": [
    "# 2.\n",
    "Sa se calculeze scorul Scrabble al unui cuvant. Fiecare litera are asignata o anumita valoare (e.g. 'a' -> 3, 'f'\n",
    "->7, 'z' -> 23; setati valori intr-un dictionar), iar scorul cuvantului se calculeaza ca suma scorurilor literelor\n",
    "componente. Literele mari si mici au aceeasi valoare."
   ]
  },
  {
   "cell_type": "code",
   "execution_count": null,
   "metadata": {},
   "outputs": [],
   "source": [
    "score = {\"a\": 1 , \"b\": 3 , \"c\": 3 , \"d\": 2 ,\n",
    "         \"e\": 1 , \"f\": 4 , \"g\": 2 , \"h\": 4 ,\n",
    "         \"i\": 1 , \"j\": 8 , \"k\": 5 , \"l\": 1 ,\n",
    "         \"m\": 3 , \"n\": 1 , \"o\": 1 , \"p\": 3 ,\n",
    "         \"q\": 10, \"r\": 1 , \"s\": 1 , \"t\": 1 ,\n",
    "         \"u\": 1 , \"v\": 4 , \"w\": 4 , \"x\": 8 ,\n",
    "         \"y\": 4 , \"z\": 10}\n",
    "\n",
    "word = input(\"Word: \")\n",
    "\n",
    "sum_score = 0\n",
    "for w in word:\n",
    "    # print(score[w])\n",
    "    sum_score += score[w]\n",
    "print(\"'\", word, \"' score:\", sum_score)"
   ]
  },
  {
   "cell_type": "markdown",
   "metadata": {},
   "source": [
    "# 3.\n",
    "Sa se determine daca doua cuvinte sunt unul anagrama celuilalt; exemplu LIBIA -> ABILI. Considerati\n",
    "sortarea caracterelor unui cuvant."
   ]
  },
  {
   "cell_type": "markdown",
   "metadata": {},
   "source": [
    "# 4.\n",
    "Sa se verifice conjectura Collatz (https://en.wikipedia.org/wiki/Collatz_conjecture) pentru numerele intre 1 si\n",
    "1000."
   ]
  },
  {
   "cell_type": "code",
   "execution_count": null,
   "metadata": {},
   "outputs": [],
   "source": [
    "def par(n):\n",
    "    if n % 2 == 0:\n",
    "        return 1\n",
    "    return 0\n",
    "\n",
    "def Collatz(n):\n",
    "    print(n, end = \" \")\n",
    "    if par(n) == 1:\n",
    "        # print(\"even\")\n",
    "        n = n / 2\n",
    "    else:\n",
    "        # print(\"odd\")\n",
    "        n = 3 * n + 1\n",
    "    return int(n) # altfel il face float\n",
    "        \n",
    "n = 12\n",
    "print(\"Test:\")\n",
    "while n != 1:\n",
    "    n = Collatz(n)\n",
    "print(n)\n",
    "\n",
    "print(\"1-1000:\")\n",
    "for i in range(1, 1000 + 1):\n",
    "    while i != 1:\n",
    "        i = Collatz(i)\n",
    "    print(i)"
   ]
  },
  {
   "cell_type": "markdown",
   "metadata": {},
   "source": [
    "# 5.\n",
    "Sa se determine daca doua liste sunt una permutarea circulara a celeilalte. Exemplu: [1, 2, 3, 4] si [3, 4, 1,\n",
    "2] sunt in aceasta situatie, dar nu si [1, 2, 3, 4] cu [3, 4, 2, 1]."
   ]
  },
  {
   "cell_type": "code",
   "execution_count": 12,
   "metadata": {},
   "outputs": [],
   "source": [
    "list_1 = [1,2,3,4]\n",
    "list_2 = [3,4,1,2]\n",
    "\n"
   ]
  },
  {
   "cell_type": "markdown",
   "metadata": {},
   "source": [
    "# 6."
   ]
  },
  {
   "cell_type": "code",
   "execution_count": null,
   "metadata": {},
   "outputs": [],
   "source": []
  }
 ],
 "metadata": {
  "kernelspec": {
   "display_name": "Python 3",
   "language": "python",
   "name": "python3"
  },
  "language_info": {
   "codemirror_mode": {
    "name": "ipython",
    "version": 3
   },
   "file_extension": ".py",
   "mimetype": "text/x-python",
   "name": "python",
   "nbconvert_exporter": "python",
   "pygments_lexer": "ipython3",
   "version": "3.7.6"
  }
 },
 "nbformat": 4,
 "nbformat_minor": 4
}
